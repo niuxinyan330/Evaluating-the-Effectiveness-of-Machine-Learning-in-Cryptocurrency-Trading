{
 "cells": [
  {
   "cell_type": "code",
   "execution_count": 1,
   "metadata": {},
   "outputs": [],
   "source": [
    "import numpy as np\n",
    "import pandas as pd\n",
    "import matplotlib.pyplot as plt\n",
    "from sklearn.preprocessing import MinMaxScaler\n",
    "from keras.models import Sequential, load_model\n",
    "from keras.layers import LSTM, Dense, Dropout,Flatten"
   ]
  },
  {
   "cell_type": "code",
   "execution_count": 2,
   "metadata": {},
   "outputs": [
    {
     "data": {
      "text/html": [
       "<div>\n",
       "<style scoped>\n",
       "    .dataframe tbody tr th:only-of-type {\n",
       "        vertical-align: middle;\n",
       "    }\n",
       "\n",
       "    .dataframe tbody tr th {\n",
       "        vertical-align: top;\n",
       "    }\n",
       "\n",
       "    .dataframe thead th {\n",
       "        text-align: right;\n",
       "    }\n",
       "</style>\n",
       "<table border=\"1\" class=\"dataframe\">\n",
       "  <thead>\n",
       "    <tr style=\"text-align: right;\">\n",
       "      <th></th>\n",
       "      <th>Unnamed: 0</th>\n",
       "      <th>close</th>\n",
       "      <th>high</th>\n",
       "      <th>low</th>\n",
       "      <th>open</th>\n",
       "      <th>NVT</th>\n",
       "    </tr>\n",
       "    <tr>\n",
       "      <th>date</th>\n",
       "      <th></th>\n",
       "      <th></th>\n",
       "      <th></th>\n",
       "      <th></th>\n",
       "      <th></th>\n",
       "      <th></th>\n",
       "    </tr>\n",
       "  </thead>\n",
       "  <tbody>\n",
       "    <tr>\n",
       "      <th>2017-03-01</th>\n",
       "      <td>0</td>\n",
       "      <td>17.758</td>\n",
       "      <td>17.758</td>\n",
       "      <td>16.970</td>\n",
       "      <td>16.970</td>\n",
       "      <td>7.576159</td>\n",
       "    </tr>\n",
       "    <tr>\n",
       "      <th>2017-03-02</th>\n",
       "      <td>1</td>\n",
       "      <td>19.208</td>\n",
       "      <td>19.246</td>\n",
       "      <td>19.144</td>\n",
       "      <td>19.144</td>\n",
       "      <td>5.164297</td>\n",
       "    </tr>\n",
       "  </tbody>\n",
       "</table>\n",
       "</div>"
      ],
      "text/plain": [
       "            Unnamed: 0   close    high     low    open       NVT\n",
       "date                                                            \n",
       "2017-03-01           0  17.758  17.758  16.970  16.970  7.576159\n",
       "2017-03-02           1  19.208  19.246  19.144  19.144  5.164297"
      ]
     },
     "execution_count": 2,
     "metadata": {},
     "output_type": "execute_result"
    }
   ],
   "source": [
    "da=pd.read_csv('input.csv',parse_dates=True)\n",
    "df = pd.read_csv('input.csv',index_col=\"date\",parse_dates=True)\n",
    "df.fillna(method='ffill',inplace=True)\n",
    "df.head(2)"
   ]
  },
  {
   "cell_type": "code",
   "execution_count": 3,
   "metadata": {},
   "outputs": [
    {
     "name": "stdout",
     "output_type": "stream",
     "text": [
      "Requirement already satisfied: tensorflow in d:\\anaconda3\\lib\\site-packages (2.16.1)\n",
      "Requirement already satisfied: tensorflow-intel==2.16.1 in d:\\anaconda3\\lib\\site-packages (from tensorflow) (2.16.1)\n",
      "Requirement already satisfied: absl-py>=1.0.0 in d:\\anaconda3\\lib\\site-packages (from tensorflow-intel==2.16.1->tensorflow) (2.1.0)\n",
      "Requirement already satisfied: astunparse>=1.6.0 in d:\\anaconda3\\lib\\site-packages (from tensorflow-intel==2.16.1->tensorflow) (1.6.3)\n",
      "Requirement already satisfied: flatbuffers>=23.5.26 in d:\\anaconda3\\lib\\site-packages (from tensorflow-intel==2.16.1->tensorflow) (24.3.25)\n",
      "Requirement already satisfied: gast!=0.5.0,!=0.5.1,!=0.5.2,>=0.2.1 in d:\\anaconda3\\lib\\site-packages (from tensorflow-intel==2.16.1->tensorflow) (0.5.4)\n",
      "Requirement already satisfied: google-pasta>=0.1.1 in d:\\anaconda3\\lib\\site-packages (from tensorflow-intel==2.16.1->tensorflow) (0.2.0)\n",
      "Requirement already satisfied: h5py>=3.10.0 in d:\\anaconda3\\lib\\site-packages (from tensorflow-intel==2.16.1->tensorflow) (3.11.0)\n",
      "Requirement already satisfied: libclang>=13.0.0 in d:\\anaconda3\\lib\\site-packages (from tensorflow-intel==2.16.1->tensorflow) (18.1.1)\n",
      "Requirement already satisfied: ml-dtypes~=0.3.1 in d:\\anaconda3\\lib\\site-packages (from tensorflow-intel==2.16.1->tensorflow) (0.3.2)\n",
      "Requirement already satisfied: opt-einsum>=2.3.2 in d:\\anaconda3\\lib\\site-packages (from tensorflow-intel==2.16.1->tensorflow) (3.3.0)\n",
      "Requirement already satisfied: packaging in d:\\anaconda3\\lib\\site-packages (from tensorflow-intel==2.16.1->tensorflow) (23.0)\n",
      "Requirement already satisfied: protobuf!=4.21.0,!=4.21.1,!=4.21.2,!=4.21.3,!=4.21.4,!=4.21.5,<5.0.0dev,>=3.20.3 in d:\\anaconda3\\lib\\site-packages (from tensorflow-intel==2.16.1->tensorflow) (4.25.3)\n",
      "Requirement already satisfied: requests<3,>=2.21.0 in d:\\anaconda3\\lib\\site-packages (from tensorflow-intel==2.16.1->tensorflow) (2.31.0)\n",
      "Requirement already satisfied: setuptools in d:\\anaconda3\\lib\\site-packages (from tensorflow-intel==2.16.1->tensorflow) (68.0.0)\n",
      "Requirement already satisfied: six>=1.12.0 in d:\\anaconda3\\lib\\site-packages (from tensorflow-intel==2.16.1->tensorflow) (1.16.0)\n",
      "Requirement already satisfied: termcolor>=1.1.0 in d:\\anaconda3\\lib\\site-packages (from tensorflow-intel==2.16.1->tensorflow) (2.4.0)\n",
      "Requirement already satisfied: typing-extensions>=3.6.6 in d:\\anaconda3\\lib\\site-packages (from tensorflow-intel==2.16.1->tensorflow) (4.7.1)\n",
      "Requirement already satisfied: wrapt>=1.11.0 in d:\\anaconda3\\lib\\site-packages (from tensorflow-intel==2.16.1->tensorflow) (1.14.1)\n",
      "Requirement already satisfied: grpcio<2.0,>=1.24.3 in d:\\anaconda3\\lib\\site-packages (from tensorflow-intel==2.16.1->tensorflow) (1.62.2)\n",
      "Requirement already satisfied: tensorboard<2.17,>=2.16 in d:\\anaconda3\\lib\\site-packages (from tensorflow-intel==2.16.1->tensorflow) (2.16.2)\n",
      "Requirement already satisfied: keras>=3.0.0 in d:\\anaconda3\\lib\\site-packages (from tensorflow-intel==2.16.1->tensorflow) (3.2.1)\n",
      "Requirement already satisfied: tensorflow-io-gcs-filesystem>=0.23.1 in d:\\anaconda3\\lib\\site-packages (from tensorflow-intel==2.16.1->tensorflow) (0.31.0)\n",
      "Requirement already satisfied: numpy<2.0.0,>=1.23.5 in d:\\anaconda3\\lib\\site-packages (from tensorflow-intel==2.16.1->tensorflow) (1.24.3)\n",
      "Requirement already satisfied: wheel<1.0,>=0.23.0 in d:\\anaconda3\\lib\\site-packages (from astunparse>=1.6.0->tensorflow-intel==2.16.1->tensorflow) (0.38.4)\n",
      "Requirement already satisfied: rich in d:\\anaconda3\\lib\\site-packages (from keras>=3.0.0->tensorflow-intel==2.16.1->tensorflow) (13.7.1)\n",
      "Requirement already satisfied: namex in d:\\anaconda3\\lib\\site-packages (from keras>=3.0.0->tensorflow-intel==2.16.1->tensorflow) (0.0.8)\n",
      "Requirement already satisfied: optree in d:\\anaconda3\\lib\\site-packages (from keras>=3.0.0->tensorflow-intel==2.16.1->tensorflow) (0.11.0)\n",
      "Requirement already satisfied: charset-normalizer<4,>=2 in d:\\anaconda3\\lib\\site-packages (from requests<3,>=2.21.0->tensorflow-intel==2.16.1->tensorflow) (2.0.4)\n",
      "Requirement already satisfied: idna<4,>=2.5 in d:\\anaconda3\\lib\\site-packages (from requests<3,>=2.21.0->tensorflow-intel==2.16.1->tensorflow) (3.4)\n",
      "Requirement already satisfied: urllib3<3,>=1.21.1 in d:\\anaconda3\\lib\\site-packages (from requests<3,>=2.21.0->tensorflow-intel==2.16.1->tensorflow) (1.26.16)\n",
      "Requirement already satisfied: certifi>=2017.4.17 in d:\\anaconda3\\lib\\site-packages (from requests<3,>=2.21.0->tensorflow-intel==2.16.1->tensorflow) (2023.7.22)\n",
      "Requirement already satisfied: markdown>=2.6.8 in d:\\anaconda3\\lib\\site-packages (from tensorboard<2.17,>=2.16->tensorflow-intel==2.16.1->tensorflow) (3.4.1)\n",
      "Requirement already satisfied: tensorboard-data-server<0.8.0,>=0.7.0 in d:\\anaconda3\\lib\\site-packages (from tensorboard<2.17,>=2.16->tensorflow-intel==2.16.1->tensorflow) (0.7.2)\n",
      "Requirement already satisfied: werkzeug>=1.0.1 in d:\\anaconda3\\lib\\site-packages (from tensorboard<2.17,>=2.16->tensorflow-intel==2.16.1->tensorflow) (2.2.3)\n",
      "Requirement already satisfied: MarkupSafe>=2.1.1 in d:\\anaconda3\\lib\\site-packages (from werkzeug>=1.0.1->tensorboard<2.17,>=2.16->tensorflow-intel==2.16.1->tensorflow) (2.1.1)\n",
      "Requirement already satisfied: markdown-it-py>=2.2.0 in d:\\anaconda3\\lib\\site-packages (from rich->keras>=3.0.0->tensorflow-intel==2.16.1->tensorflow) (2.2.0)\n",
      "Requirement already satisfied: pygments<3.0.0,>=2.13.0 in d:\\anaconda3\\lib\\site-packages (from rich->keras>=3.0.0->tensorflow-intel==2.16.1->tensorflow) (2.15.1)\n",
      "Requirement already satisfied: mdurl~=0.1 in d:\\anaconda3\\lib\\site-packages (from markdown-it-py>=2.2.0->rich->keras>=3.0.0->tensorflow-intel==2.16.1->tensorflow) (0.1.0)\n",
      "Note: you may need to restart the kernel to use updated packages.\n"
     ]
    }
   ],
   "source": [
    "pip install tensorflow"
   ]
  },
  {
   "cell_type": "code",
   "execution_count": 4,
   "metadata": {},
   "outputs": [
    {
     "name": "stdout",
     "output_type": "stream",
     "text": [
      "(2191, 1)\n"
     ]
    },
    {
     "data": {
      "text/plain": [
       "array([[17.758],\n",
       "       [19.208],\n",
       "       [19.61 ],\n",
       "       [18.702],\n",
       "       [19.2  ]])"
      ]
     },
     "execution_count": 4,
     "metadata": {},
     "output_type": "execute_result"
    }
   ],
   "source": [
    "df_close= df['close'].values\n",
    "df_close = df_close.reshape(-1, 1) #output:(is a 1 dimensional columnar array)\n",
    "print(df_close.shape)\n",
    "df_close[:5]"
   ]
  },
  {
   "cell_type": "code",
   "execution_count": 5,
   "metadata": {},
   "outputs": [],
   "source": [
    "train = df['2017-03-01':'2022-05-31']\n",
    "#train= train.drop('Date', 1)\n",
    "\n",
    "\n",
    "#print('Test Dataset:',test.shape)\n",
    "#print (train.head())\n",
    "test  =df['2022-06-01':'2023-02-28']\n",
    "#print (test.head())"
   ]
  },
  {
   "cell_type": "code",
   "execution_count": 6,
   "metadata": {},
   "outputs": [
    {
     "name": "stdout",
     "output_type": "stream",
     "text": [
      "(1918, 1)\n"
     ]
    },
    {
     "data": {
      "text/plain": [
       "array([[  17.758     ],\n",
       "       [  19.208     ],\n",
       "       [  19.61      ],\n",
       "       ...,\n",
       "       [1810.78967534],\n",
       "       [1993.23562323],\n",
       "       [1948.29386521]])"
      ]
     },
     "execution_count": 6,
     "metadata": {},
     "output_type": "execute_result"
    }
   ],
   "source": [
    "train_close= train['close'].values\n",
    "train_close = train_close.reshape(-1, 1)\n",
    "\n",
    "print(train_close.shape)\n",
    "\n",
    "train_close[:]"
   ]
  },
  {
   "cell_type": "code",
   "execution_count": 7,
   "metadata": {},
   "outputs": [
    {
     "name": "stdout",
     "output_type": "stream",
     "text": [
      "(273, 1)\n"
     ]
    },
    {
     "data": {
      "text/plain": [
       "array([[1825.11566758],\n",
       "       [1834.32861208],\n",
       "       [1775.87362799],\n",
       "       [1800.86548828],\n",
       "       [1805.23571597],\n",
       "       [1858.95765814],\n",
       "       [1815.10071858],\n",
       "       [1793.74118701],\n",
       "       [1789.79932821],\n",
       "       [1664.96268624],\n",
       "       [1529.78234743],\n",
       "       [1448.11451054],\n",
       "       [1202.17029721],\n",
       "       [1212.26917624],\n",
       "       [1229.72575212],\n",
       "       [1067.79708906],\n",
       "       [1087.06080245],\n",
       "       [ 993.84463989],\n",
       "       [1126.47502874],\n",
       "       [1129.76915357],\n",
       "       [1125.73592841],\n",
       "       [1052.02641501],\n",
       "       [1143.26879614],\n",
       "       [1230.97739875],\n",
       "       [1242.8201716 ],\n",
       "       [1201.58443558],\n",
       "       [1194.04489681],\n",
       "       [1143.82969586],\n",
       "       [1097.60597633],\n",
       "       [1062.92973888],\n",
       "       [1063.40060571],\n",
       "       [1066.7203202 ],\n",
       "       [1074.34560555],\n",
       "       [1152.94381484],\n",
       "       [1134.80304743],\n",
       "       [1188.51384149],\n",
       "       [1238.82228363],\n",
       "       [1233.17225334],\n",
       "       [1216.7005424 ],\n",
       "       [1168.76108935],\n",
       "       [1097.71612468],\n",
       "       [1039.50483461],\n",
       "       [1112.88763097],\n",
       "       [1191.49080479],\n",
       "       [1233.47491897],\n",
       "       [1354.16013687],\n",
       "       [1347.98110845],\n",
       "       [1567.85278035],\n",
       "       [1541.39605653],\n",
       "       [1527.68571555],\n",
       "       [1575.59796419],\n",
       "       [1535.0101558 ],\n",
       "       [1548.81928291],\n",
       "       [1601.83471842],\n",
       "       [1449.59239709],\n",
       "       [1435.01114168],\n",
       "       [1634.06318254],\n",
       "       [1723.67841147],\n",
       "       [1739.93690611],\n",
       "       [1695.66388817],\n",
       "       [1681.38185094],\n",
       "       [1634.78549208],\n",
       "       [1635.82140522],\n",
       "       [1619.28903219],\n",
       "       [1608.72870905],\n",
       "       [1725.34945942],\n",
       "       [1692.55028353],\n",
       "       [1699.05030671],\n",
       "       [1774.15509592],\n",
       "       [1703.3602626 ],\n",
       "       [1851.17441693],\n",
       "       [1881.17928839],\n",
       "       [1957.55298434],\n",
       "       [1981.86424961],\n",
       "       [1937.69275522],\n",
       "       [1905.63929796],\n",
       "       [1878.62487265],\n",
       "       [1831.40124773],\n",
       "       [1847.44932808],\n",
       "       [1612.74598171],\n",
       "       [1577.20648464],\n",
       "       [1619.53976251],\n",
       "       [1619.60188236],\n",
       "       [1661.86356051],\n",
       "       [1657.72884151],\n",
       "       [1696.75538836],\n",
       "       [1503.51494026],\n",
       "       [1494.20440611],\n",
       "       [1435.95521514],\n",
       "       [1552.07686952],\n",
       "       [1523.58191617],\n",
       "       [1552.82470643],\n",
       "       [1586.38565761],\n",
       "       [1574.87918648],\n",
       "       [1555.36192893],\n",
       "       [1576.55552267],\n",
       "       [1620.92513944],\n",
       "       [1562.84162766],\n",
       "       [1631.50025959],\n",
       "       [1635.49105437],\n",
       "       [1717.62725781],\n",
       "       [1776.24038504],\n",
       "       [1761.84391349],\n",
       "       [1708.09705101],\n",
       "       [1577.0280779 ],\n",
       "       [1633.18936878],\n",
       "       [1473.96068736],\n",
       "       [1431.0702028 ],\n",
       "       [1470.47381612],\n",
       "       [1335.36730468],\n",
       "       [1380.27356731],\n",
       "       [1323.82790537],\n",
       "       [1250.70762268],\n",
       "       [1328.79958193],\n",
       "       [1330.77031586],\n",
       "       [1318.13751644],\n",
       "       [1294.08297083],\n",
       "       [1333.47737055],\n",
       "       [1331.18380667],\n",
       "       [1337.56664638],\n",
       "       [1335.544932  ],\n",
       "       [1328.37296221],\n",
       "       [1311.48872901],\n",
       "       [1276.77609317],\n",
       "       [1323.64210767],\n",
       "       [1362.3640175 ],\n",
       "       [1353.29736582],\n",
       "       [1351.53705023],\n",
       "       [1332.49579898],\n",
       "       [1315.43785546],\n",
       "       [1322.32979709],\n",
       "       [1291.46326667],\n",
       "       [1279.20993881],\n",
       "       [1294.85268022],\n",
       "       [1288.3725163 ],\n",
       "       [1297.80041331],\n",
       "       [1275.16667866],\n",
       "       [1306.54598637],\n",
       "       [1332.33469963],\n",
       "       [1310.77256399],\n",
       "       [1285.03586267],\n",
       "       [1282.90454215],\n",
       "       [1299.87814072],\n",
       "       [1314.22686952],\n",
       "       [1363.7843039 ],\n",
       "       [1344.78066036],\n",
       "       [1462.11128677],\n",
       "       [1568.19994075],\n",
       "       [1515.32317223],\n",
       "       [1555.88969044],\n",
       "       [1619.9012516 ],\n",
       "       [1590.28963931],\n",
       "       [1573.59404499],\n",
       "       [1579.37464704],\n",
       "       [1520.42559314],\n",
       "       [1530.76619725],\n",
       "       [1645.01583918],\n",
       "       [1627.65726149],\n",
       "       [1574.29663167],\n",
       "       [1568.413431  ],\n",
       "       [1332.66414034],\n",
       "       [1099.79672077],\n",
       "       [1298.41467287],\n",
       "       [1287.54831852],\n",
       "       [1254.03427638],\n",
       "       [1221.85277096],\n",
       "       [1242.42306557],\n",
       "       [1250.53775729],\n",
       "       [1215.41225666],\n",
       "       [1200.58689659],\n",
       "       [1212.37402048],\n",
       "       [1219.00051073],\n",
       "       [1142.23135378],\n",
       "       [1109.25990943],\n",
       "       [1134.22019896],\n",
       "       [1183.79870481],\n",
       "       [1203.04686639],\n",
       "       [1199.42800831],\n",
       "       [1206.32805557],\n",
       "       [1197.03187485],\n",
       "       [1170.1888904 ],\n",
       "       [1217.11530446],\n",
       "       [1296.4840449 ],\n",
       "       [1276.11938279],\n",
       "       [1292.8964917 ],\n",
       "       [1243.38135403],\n",
       "       [1280.93023793],\n",
       "       [1259.56487085],\n",
       "       [1271.63070898],\n",
       "       [1233.04484156],\n",
       "       [1281.67923487],\n",
       "       [1264.03443862],\n",
       "       [1265.64315203],\n",
       "       [1263.81743662],\n",
       "       [1275.28548423],\n",
       "       [1320.32276026],\n",
       "       [1309.60516412],\n",
       "       [1265.87772987],\n",
       "       [1166.27088915],\n",
       "       [1189.00898263],\n",
       "       [1187.25508314],\n",
       "       [1168.30660994],\n",
       "       [1217.54501227],\n",
       "       [1212.73156242],\n",
       "       [1218.22813076],\n",
       "       [1219.80043957],\n",
       "       [1221.44381176],\n",
       "       [1218.35493569],\n",
       "       [1225.00662222],\n",
       "       [1212.38688249],\n",
       "       [1188.92637659],\n",
       "       [1201.32758146],\n",
       "       [1199.32025317],\n",
       "       [1196.93101686],\n",
       "       [1200.53702096],\n",
       "       [1214.81303669],\n",
       "       [1214.87111635],\n",
       "       [1256.03781625],\n",
       "       [1251.01053664],\n",
       "       [1270.13645656],\n",
       "       [1264.04127367],\n",
       "       [1284.24138357],\n",
       "       [1320.9064134 ],\n",
       "       [1336.22702201],\n",
       "       [1387.01001844],\n",
       "       [1417.75878046],\n",
       "       [1449.81663559],\n",
       "       [1552.86901612],\n",
       "       [1551.88397375],\n",
       "       [1578.04069748],\n",
       "       [1570.00709849],\n",
       "       [1520.31207241],\n",
       "       [1550.43618081],\n",
       "       [1659.88579204],\n",
       "       [1628.05839676],\n",
       "       [1628.5432181 ],\n",
       "       [1628.86881091],\n",
       "       [1555.42525869],\n",
       "       [1612.57541887],\n",
       "       [1602.30966351],\n",
       "       [1598.21923414],\n",
       "       [1570.23405612],\n",
       "       [1645.50682661],\n",
       "       [1566.4988085 ],\n",
       "       [1586.05715408],\n",
       "       [1640.29389266],\n",
       "       [1645.87814038],\n",
       "       [1665.18387548],\n",
       "       [1665.60762973],\n",
       "       [1632.52415557],\n",
       "       [1616.9196372 ],\n",
       "       [1673.32189386],\n",
       "       [1651.45506541],\n",
       "       [1546.31380136],\n",
       "       [1515.06100895],\n",
       "       [1540.00252072],\n",
       "       [1513.0101709 ],\n",
       "       [1507.33853792],\n",
       "       [1557.45351398],\n",
       "       [1673.78408039],\n",
       "       [1639.89673457],\n",
       "       [1696.07122252],\n",
       "       [1690.70017488],\n",
       "       [1681.75857171],\n",
       "       [1701.87704348],\n",
       "       [1656.82842855],\n",
       "       [1643.24164618],\n",
       "       [1651.02680817],\n",
       "       [1608.82594206],\n",
       "       [1594.29225344],\n",
       "       [1639.41791763],\n",
       "       [1633.45007758],\n",
       "       [1606.63813599]])"
      ]
     },
     "execution_count": 7,
     "metadata": {},
     "output_type": "execute_result"
    }
   ],
   "source": [
    "test_close= test['close'].values\n",
    "test_close = test_close.reshape(-1, 1)\n",
    "\n",
    "print(test_close.shape)\n",
    "\n",
    "test_close[:]"
   ]
  },
  {
   "cell_type": "code",
   "execution_count": 8,
   "metadata": {},
   "outputs": [
    {
     "name": "stdout",
     "output_type": "stream",
     "text": [
      "(1918, 1)\n"
     ]
    }
   ],
   "source": [
    "scaler = MinMaxScaler(feature_range=(0,1))\n",
    "train_close = scaler.fit_transform(train_close)\n",
    "train_close[1:]\n",
    "print(train_close.shape)"
   ]
  },
  {
   "cell_type": "code",
   "execution_count": 9,
   "metadata": {},
   "outputs": [
    {
     "name": "stdout",
     "output_type": "stream",
     "text": [
      "(273, 1)\n"
     ]
    }
   ],
   "source": [
    "scaler = MinMaxScaler(feature_range=(0,1))\n",
    "test_close = scaler.fit_transform(test_close)\n",
    "test_close[:5]\n",
    "print(test_close.shape)"
   ]
  },
  {
   "cell_type": "code",
   "execution_count": 10,
   "metadata": {},
   "outputs": [],
   "source": [
    "# converting my 1d array into 2 day array with 60 values in each nested list train_open had 1d array.\n",
    "#now after implementing the function timestamp it is converting into 2 d array . \n",
    "#A list within a list containing 60 values"
   ]
  },
  {
   "cell_type": "code",
   "execution_count": 11,
   "metadata": {},
   "outputs": [],
   "source": [
    "def timestamp(df):\n",
    "    x = []\n",
    "    y = []\n",
    "    for i in range(50, df.shape[0]):\n",
    "        x.append(df[i-50:i, 0])\n",
    "        y.append(df[i, 0])\n",
    "    x = np.array(x)\n",
    "    y = np.array(y)\n",
    "    return x,y\n",
    "#count_row = df.shape[0]  # gives number of row count\n",
    "#count_col = df.shape[1]  # gives number of col count"
   ]
  },
  {
   "cell_type": "code",
   "execution_count": 12,
   "metadata": {},
   "outputs": [
    {
     "data": {
      "text/plain": [
       "array([0.00664039, 0.0066787 , 0.00670702, ..., 0.37360447, 0.4115948 ,\n",
       "       0.40223667])"
      ]
     },
     "execution_count": 12,
     "metadata": {},
     "output_type": "execute_result"
    }
   ],
   "source": [
    "x_train, y_train = timestamp(train_close)\n",
    "x_train.shape\n",
    "#x_train[1:]\n",
    "y_train[1:]\n",
    "\n"
   ]
  },
  {
   "cell_type": "code",
   "execution_count": 13,
   "metadata": {},
   "outputs": [
    {
     "data": {
      "text/plain": [
       "array([[0.84135074, 0.8506754 , 0.79151161, 0.81680651, 0.82122973,\n",
       "        0.87560308, 0.83121435, 0.80959582, 0.80560616, 0.6792558 ,\n",
       "        0.54243631, 0.45977819, 0.21085174, 0.22107308, 0.23874133,\n",
       "        0.07484917, 0.09434647, 0.        , 0.13423862, 0.13757269,\n",
       "        0.13349056, 0.05888727, 0.15123602, 0.24000815, 0.25199452,\n",
       "        0.21025878, 0.20262782, 0.15180372, 0.10501951, 0.0699228 ,\n",
       "        0.07039938, 0.07375935, 0.08147709, 0.16102836, 0.14266762,\n",
       "        0.19702969, 0.24794816, 0.24222962, 0.22555818, 0.17703743,\n",
       "        0.105131  , 0.04621385, 0.12048647, 0.20004276, 0.24253595,\n",
       "        0.36468456, 0.35843061, 0.58096837, 0.55419084, 0.54031425]])"
      ]
     },
     "execution_count": 13,
     "metadata": {},
     "output_type": "execute_result"
    }
   ],
   "source": [
    "x_test, y_test = timestamp(test_close)\n",
    "x_test[:1]"
   ]
  },
  {
   "cell_type": "code",
   "execution_count": 14,
   "metadata": {},
   "outputs": [
    {
     "name": "stdout",
     "output_type": "stream",
     "text": [
      "(1868, 50, 1)\n",
      "(223, 50, 1)\n"
     ]
    }
   ],
   "source": [
    "# Reshape features for LSTM Layer (3d array for lstm)\n",
    "x_train = np.reshape(x_train, (x_train.shape[0], x_train.shape[1], 1))\n",
    "x_test = np.reshape(x_test, (x_test.shape[0], x_test.shape[1], 1))\n",
    "print(x_train.shape)\n",
    "print(x_test.shape)"
   ]
  },
  {
   "cell_type": "markdown",
   "metadata": {},
   "source": [
    "model = Sequential()\n",
    "model.add(LSTM(units=50, return_sequences=True, input_shape=(x_train.shape[1], 1)))\n",
    "model.add(Dropout(0.2))\n",
    "model.add(Dense(units=1))"
   ]
  },
  {
   "cell_type": "code",
   "execution_count": 15,
   "metadata": {
    "scrolled": true
   },
   "outputs": [
    {
     "name": "stdout",
     "output_type": "stream",
     "text": [
      "Epoch 1/10\n"
     ]
    },
    {
     "name": "stderr",
     "output_type": "stream",
     "text": [
      "D:\\anaconda3\\Lib\\site-packages\\keras\\src\\layers\\rnn\\rnn.py:204: UserWarning: Do not pass an `input_shape`/`input_dim` argument to a layer. When using Sequential models, prefer using an `Input(shape)` object as the first layer in the model instead.\n",
      "  super().__init__(**kwargs)\n"
     ]
    },
    {
     "name": "stdout",
     "output_type": "stream",
     "text": [
      "\u001b[1m47/47\u001b[0m \u001b[32m━━━━━━━━━━━━━━━━━━━━\u001b[0m\u001b[37m\u001b[0m \u001b[1m5s\u001b[0m 68ms/step - loss: 0.0098 - val_loss: 0.0087\n",
      "Epoch 2/10\n",
      "\u001b[1m47/47\u001b[0m \u001b[32m━━━━━━━━━━━━━━━━━━━━\u001b[0m\u001b[37m\u001b[0m \u001b[1m3s\u001b[0m 56ms/step - loss: 0.0020 - val_loss: 0.0085\n",
      "Epoch 3/10\n",
      "\u001b[1m47/47\u001b[0m \u001b[32m━━━━━━━━━━━━━━━━━━━━\u001b[0m\u001b[37m\u001b[0m \u001b[1m3s\u001b[0m 58ms/step - loss: 0.0019 - val_loss: 0.0292\n",
      "Epoch 4/10\n",
      "\u001b[1m47/47\u001b[0m \u001b[32m━━━━━━━━━━━━━━━━━━━━\u001b[0m\u001b[37m\u001b[0m \u001b[1m3s\u001b[0m 56ms/step - loss: 0.0011 - val_loss: 0.0074\n",
      "Epoch 5/10\n",
      "\u001b[1m47/47\u001b[0m \u001b[32m━━━━━━━━━━━━━━━━━━━━\u001b[0m\u001b[37m\u001b[0m \u001b[1m3s\u001b[0m 57ms/step - loss: 0.0012 - val_loss: 0.0184\n",
      "Epoch 6/10\n",
      "\u001b[1m47/47\u001b[0m \u001b[32m━━━━━━━━━━━━━━━━━━━━\u001b[0m\u001b[37m\u001b[0m \u001b[1m3s\u001b[0m 58ms/step - loss: 0.0014 - val_loss: 0.0087\n",
      "Epoch 7/10\n",
      "\u001b[1m47/47\u001b[0m \u001b[32m━━━━━━━━━━━━━━━━━━━━\u001b[0m\u001b[37m\u001b[0m \u001b[1m3s\u001b[0m 54ms/step - loss: 0.0012 - val_loss: 0.0094\n",
      "Epoch 8/10\n",
      "\u001b[1m47/47\u001b[0m \u001b[32m━━━━━━━━━━━━━━━━━━━━\u001b[0m\u001b[37m\u001b[0m \u001b[1m3s\u001b[0m 62ms/step - loss: 0.0015 - val_loss: 0.0129\n",
      "Epoch 9/10\n",
      "\u001b[1m47/47\u001b[0m \u001b[32m━━━━━━━━━━━━━━━━━━━━\u001b[0m\u001b[37m\u001b[0m \u001b[1m3s\u001b[0m 58ms/step - loss: 0.0013 - val_loss: 0.0071\n",
      "Epoch 10/10\n",
      "\u001b[1m47/47\u001b[0m \u001b[32m━━━━━━━━━━━━━━━━━━━━\u001b[0m\u001b[37m\u001b[0m \u001b[1m3s\u001b[0m 63ms/step - loss: 0.0012 - val_loss: 0.0076\n"
     ]
    }
   ],
   "source": [
    "l_model = Sequential()\n",
    "\n",
    "\n",
    "l_model.add(LSTM(units=50, return_sequences=True, input_shape=(x_train.shape[1], 1)))\n",
    "l_model.add(Dropout(0.2))\n",
    "\n",
    "l_model.add(LSTM(units=50, return_sequences=True))\n",
    "l_model.add(Dropout(0.2))\n",
    "\n",
    "l_model.add(LSTM(units=50, return_sequences=True))\n",
    "l_model.add(Dropout(0.2))\n",
    "\n",
    "l_model.add(LSTM(units=50))\n",
    "l_model.add(Dropout(0.2))\n",
    "\n",
    "\n",
    "l_model.add(Dense(units=1))\n",
    "\n",
    "l_model.compile(loss='mean_squared_error', optimizer='adam')\n",
    "history=l_model.fit(x_train, y_train, epochs=10, batch_size=32,validation_split=0.2)"
   ]
  },
  {
   "cell_type": "code",
   "execution_count": 16,
   "metadata": {},
   "outputs": [
    {
     "name": "stdout",
     "output_type": "stream",
     "text": [
      "dict_keys(['loss', 'val_loss'])\n"
     ]
    }
   ],
   "source": [
    "print(history.history.keys())"
   ]
  },
  {
   "cell_type": "code",
   "execution_count": 17,
   "metadata": {},
   "outputs": [
    {
     "name": "stdout",
     "output_type": "stream",
     "text": [
      "\u001b[1m7/7\u001b[0m \u001b[32m━━━━━━━━━━━━━━━━━━━━\u001b[0m\u001b[37m\u001b[0m \u001b[1m1s\u001b[0m 80ms/step\n"
     ]
    }
   ],
   "source": [
    "#running the algo on the x_test and converting the value into the actual price removing the minmax scale\n",
    "testPredict = l_model.predict(x_test, batch_size=32)\n",
    "testPredict=scaler.inverse_transform(testPredict)"
   ]
  },
  {
   "cell_type": "code",
   "execution_count": 18,
   "metadata": {},
   "outputs": [
    {
     "data": {
      "text/plain": [
       "<matplotlib.legend.Legend at 0x1f26cf5c710>"
      ]
     },
     "execution_count": 18,
     "metadata": {},
     "output_type": "execute_result"
    },
    {
     "data": {
      "image/png": "[encoded data removed]",
      "text/plain": [
       "<Figure size 800x400 with 1 Axes>"
      ]
     },
     "metadata": {},
     "output_type": "display_data"
    }
   ],
   "source": [
    "#y_test was previous scaled using minmax so get the actual value it is inversed \n",
    "#test_predict is the x_test set which is used after training the train set as the predicting model\n",
    "y_test_scaled = scaler.inverse_transform(y_test.reshape(-1, 1))\n",
    "fig, ax = plt.subplots(figsize=(8,4))\n",
    "ax.plot(y_test_scaled, color='red', label='True Testing Price')\n",
    "plt.plot(testPredict, color='blue', label='Predicted Testing Price')\n",
    "plt.legend()"
   ]
  },
  {
   "cell_type": "code",
   "execution_count": 19,
   "metadata": {},
   "outputs": [
    {
     "data": {
      "image/png": "[encoded data removed]",
      "text/plain": [
       "<Figure size 640x480 with 1 Axes>"
      ]
     },
     "metadata": {},
     "output_type": "display_data"
    }
   ],
   "source": [
    " #Get training and test loss histories\n",
    "training_loss = history.history['loss']\n",
    "validation_loss = history.history['val_loss']\n",
    "\n",
    "# Create count of the number of epochs\n",
    "epoch_count = range(1, len(training_loss) + 1)\n",
    "\n",
    "# Visualize loss history\n",
    "plt.plot(epoch_count, training_loss, 'r--')\n",
    "plt.plot(epoch_count, validation_loss, 'b-')\n",
    "plt.legend(['Training Loss', 'validation Loss'])\n",
    "plt.xlabel('Epoch')\n",
    "plt.ylabel('Loss')\n",
    "plt.show();\n"
   ]
  },
  {
   "cell_type": "markdown",
   "metadata": {},
   "source": [
    "# Error Evaluation Metrics :"
   ]
  },
  {
   "cell_type": "code",
   "execution_count": 20,
   "metadata": {},
   "outputs": [
    {
     "name": "stdout",
     "output_type": "stream",
     "text": [
      "\u001b[1m7/7\u001b[0m \u001b[32m━━━━━━━━━━━━━━━━━━━━\u001b[0m\u001b[37m\u001b[0m \u001b[1m0s\u001b[0m 18ms/step - loss: 0.0313\n",
      "value of Mean square error: 0.024794770404696465\n",
      "value of Root mean square error: 0.15746355262312756\n"
     ]
    }
   ],
   "source": [
    "import math \n",
    "score = l_model.evaluate(x_test, y_test, batch_size=32)\n",
    "\n",
    "MSE = score\n",
    "RMSE = math.sqrt(score)\n",
    "print (\"value of Mean square error:\", MSE)\n",
    "print(\"value of Root mean square error:\",RMSE)"
   ]
  },
  {
   "cell_type": "code",
   "execution_count": 21,
   "metadata": {},
   "outputs": [
    {
     "name": "stdout",
     "output_type": "stream",
     "text": [
      "R2:  0.3947963577364827\n"
     ]
    }
   ],
   "source": [
    "from sklearn import metrics\n",
    "print('R2: ', metrics.r2_score(y_test_scaled, testPredict))"
   ]
  },
  {
   "cell_type": "code",
   "execution_count": 22,
   "metadata": {},
   "outputs": [
    {
     "data": {
      "text/plain": [
       "0.40746022285048933"
      ]
     },
     "execution_count": 22,
     "metadata": {},
     "output_type": "execute_result"
    }
   ],
   "source": [
    "from sklearn.metrics import explained_variance_score\n",
    "explained_variance_score(y_test_scaled, testPredict)"
   ]
  },
  {
   "cell_type": "code",
   "execution_count": null,
   "metadata": {},
   "outputs": [],
   "source": []
  }
 ],
 "metadata": {
  "kernelspec": {
   "display_name": "Python 3 (ipykernel)",
   "language": "python",
   "name": "python3"
  },
  "language_info": {
   "codemirror_mode": {
    "name": "ipython",
    "version": 3
   },
   "file_extension": ".py",
   "mimetype": "text/x-python",
   "name": "python",
   "nbconvert_exporter": "python",
   "pygments_lexer": "ipython3",
   "version": "3.11.5"
  }
 },
 "nbformat": 4,
 "nbformat_minor": 2
}
